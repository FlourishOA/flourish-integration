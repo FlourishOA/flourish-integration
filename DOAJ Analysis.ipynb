{
 "cells": [
  {
   "cell_type": "code",
   "execution_count": 5,
   "metadata": {
    "collapsed": true
   },
   "outputs": [],
   "source": [
    "import requests\n",
    "import csv\n",
    "import pandas as pd"
   ]
  },
  {
   "cell_type": "code",
   "execution_count": 29,
   "metadata": {
    "collapsed": false
   },
   "outputs": [
    {
     "name": "stdout",
     "output_type": "stream",
     "text": [
      "(398, 62)\n",
      "(963, 62)\n",
      "(9396, 57)\n"
     ]
    }
   ],
   "source": [
    "doaj = pd.read_csv('data/doaj.csv')\n",
    "our_data = pd.read_csv('data/journals.csv', sep=\"\\t\")\n",
    "print_issns = doaj.merge(our_data, \n",
    "                         left_on=\"Journal ISSN (print version)\", \n",
    "                         right_on='issn', how='inner')\n",
    "online_issns = doaj.merge(our_data, \n",
    "                          left_on=\"Journal EISSN (online version)\", \n",
    "                          right_on='issn', how='inner')\n",
    "print print_issns.shape\n",
    "print online_issns.shape\n",
    "print doaj.shape\n"
   ]
  },
  {
   "cell_type": "code",
   "execution_count": null,
   "metadata": {
    "collapsed": true
   },
   "outputs": [],
   "source": []
  }
 ],
 "metadata": {
  "kernelspec": {
   "display_name": "Python 2",
   "language": "python",
   "name": "python2"
  },
  "language_info": {
   "codemirror_mode": {
    "name": "ipython",
    "version": 2
   },
   "file_extension": ".py",
   "mimetype": "text/x-python",
   "name": "python",
   "nbconvert_exporter": "python",
   "pygments_lexer": "ipython2",
   "version": "2.7.13"
  }
 },
 "nbformat": 4,
 "nbformat_minor": 2
}
